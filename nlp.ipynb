{
 "cells": [
  {
   "cell_type": "code",
   "execution_count": 1,
   "metadata": {},
   "outputs": [
    {
     "data": {
      "text/plain": [
       "'\\n\\n\\n\\n\\n\\n\\n\\n\\n\\n\\n\\n\\n\\n\\n\\n\\n\\n\\n\\n\\n\\n\\n\\n\\n\\n\\n\\n\\n\\n\\n\\n\\n\\n\\n\\n\\n\\n\\n\\n\\n\\n\\n\\n\\n\\n\\n0055648: Фролов Иван Николаевич \\nРеспублика Алтай – 2019\\n\\nПриложение №2 к Соглашению 14802ГУ/2019\\n\\nКалендарный план выполнения Работ по теме:\\n«Разработка системы персональной идентификации на базе нейросетевых алгоритмов \\n\\nраспознавания образов»\\n\\n№ \\nэтапа\\n\\nНаименование работ \\nпо основным этапам НИР\\n\\nСроки \\nвыполнения \\n\\nработ\\nФорма и вид отчетности\\n\\n1\\n\\n1. Проведение экспериментальных \\nисследований технологий обработки \\nизображений в лабораторных \\nусловиях. 2. Проведение \\nэкспериментальных исследований \\nтехнологий построения и обучения \\nнейронных сетей в лабораторных \\nусловиях. 3. Проведение \\nэкспериментальных исследований \\nпостроения и использования \\nнейронных сетей процессоров ARM \\nи Intel в лабораторных условиях. 4. \\nРазработка экспериментального \\nобразца базы данных для \\nпрограммного обеспечения. 5. \\nРазработка экспериментального \\nобразца программного обеспечения \\nдля системы на базе процессоров \\nARM и операционных систем \\nWindows.\\n\\n12 месяцев\\n\\n\\uf0b7 промежуточный научнотехнический отчет о выполнении \\nНИР;\\n\\n\\uf0b7 финансовый отчет о выполнении \\nпервого этапа Работ; \\n\\n\\uf0b7 акт о выполнении первого этапа \\nРабот.\\n\\n2\\n\\n1. Разработка тестового \\nэкспериментального образца \\nпрограммно-аппаратного комплекса \\nдля системы на базе процессоров \\nARM. 2. Разработка \\nэкспериментального образца \\nпрограммного обеспечения для \\nсистемы на базе процессоров Intel и \\nоперационных систем Unix/Linux. 3. \\nРазработка тестового \\nэкспериментального образца \\nкомплекса для системы на базе \\nпроцессоров Intel. 4. \\nЭкспериментальные исследования \\nдля определения оптимальных \\nпараметров, процессора, \\nоперационной системы \\nразрабатываемого образца \\nкомплекса. 5. Разработка \\n\\n12 месяцев\\n\\n\\uf0b7 заключительный научнотехнический отчет о выполнении \\nНИР;\\n\\n\\uf0b7 финансовый отчет о выполнении \\nвторого этапа Работ;\\n\\n\\uf0b7 свидетельство о прохождении \\nпреакселерационной программы \\nна базе аккредитованного \\nФондом преакселератора;\\n\\n\\uf0b7 заявка на регистрацию прав на \\nРИД;\\n\\n\\uf0b7 бизнес-план инновационного \\nпроекта;\\n\\n\\uf0b7 подтверждение подачи заявки по \\nпрограмме «Старт», либо \\nсвидетельство о государственной \\nрегистрации юридического лица, \\n\\n\\n\\n0055648: Фролов Иван Николаевич \\nРеспублика Алтай – 2019\\n\\nэкспериментального образца \\nпрограммно-аппаратного комплекса.\\n\\nлибо лицензионное соглашение о \\nпередаче прав на РИД;\\n\\n\\uf0b7 акт о выполнении второго этапа \\nРабот.\\n\\nИТОГО: 24 месяца\\n\\n\\n'"
      ]
     },
     "execution_count": 1,
     "metadata": {},
     "output_type": "execute_result"
    }
   ],
   "source": [
    "import re \n",
    "import glob, os\n",
    "from tika import parser \n",
    "d0 = [parser.from_file(file)['content'] for file in glob.glob(\"*.pdf\")]\n",
    "## Удаляем переносы (2 варианта почему-то... )\n",
    "re0 = re.compile(r'\\-\\s*\\n+\\s*')\n",
    "#re0 = re.compile('^\\s+|\\n|\\r|\\s+$')\n",
    "d1 = [re.sub(re0,'',string) for string in d0]\n",
    "d1[1]\n"
   ]
  },
  {
   "cell_type": "code",
   "execution_count": null,
   "metadata": {},
   "outputs": [],
   "source": [
    "import pymorphy2\n",
    "import pandas as pd\n",
    "import numpy as np\n",
    "import pickle\n",
    "\n",
    "from sklearn.feature_extraction.text import  TfidfVectorizer, CountVectorizer\n",
    "from sklearn.metrics.pairwise import cosine_similarity\n",
    "from nltk.tokenize import TweetTokenizer\n",
    "\n",
    "morph = pymorphy2.MorphAnalyzer()\n",
    "tokenizer = TweetTokenizer()\n",
    "\n",
    "from multiprocessing import Pool\n",
    "\n",
    "def tkn (dnum):\n",
    "    d=d1[dnum]\n",
    "    dt=[]\n",
    "    for t in tokenizer.tokenize(d):\n",
    "        if len(t)>1:\n",
    "            p = morph.parse(t.lower())[0]\n",
    "            if len(re.findall('^[а-я]+$', p.normal_form)) == 1:   #минус цифры\n",
    "                if p.tag.POS:\n",
    "                    if p.tag.POS not in ['PREP','VERB','CNOJ','PRTF','INTJ','NPRO']:\n",
    "                        dt.append(\"%s_%s\" % (p.normal_form,p.tag.POS))\n",
    "                else:\n",
    "                    dt.append(p.nornal_form)\n",
    "    return \" \".join(dt)\n",
    "pool = Pool(processes=20)\n",
    "tokens = pool.map(tkn, range(len(d1)))\n",
    "                        "
   ]
  },
  {
   "cell_type": "code",
   "execution_count": 1,
   "metadata": {},
   "outputs": [
    {
     "ename": "NameError",
     "evalue": "name 'tokens' is not defined",
     "output_type": "error",
     "traceback": [
      "\u001b[1;31m---------------------------------------------------------------------------\u001b[0m",
      "\u001b[1;31mNameError\u001b[0m                                 Traceback (most recent call last)",
      "\u001b[1;32m<ipython-input-1-f61be8cfa96d>\u001b[0m in \u001b[0;36m<module>\u001b[1;34m\u001b[0m\n\u001b[1;32m----> 1\u001b[1;33m \u001b[0mtokens2\u001b[0m \u001b[1;33m=\u001b[0m \u001b[1;33m[\u001b[0m \u001b[0md\u001b[0m  \u001b[1;32mfor\u001b[0m \u001b[0md\u001b[0m \u001b[1;32min\u001b[0m \u001b[0mtokens\u001b[0m \u001b[1;32mif\u001b[0m \u001b[0mlen\u001b[0m\u001b[1;33m(\u001b[0m\u001b[0md\u001b[0m\u001b[1;33m)\u001b[0m \u001b[1;33m>\u001b[0m \u001b[1;36m100\u001b[0m\u001b[1;33m]\u001b[0m\u001b[1;33m\u001b[0m\u001b[1;33m\u001b[0m\u001b[0m\n\u001b[0m\u001b[0;32m      2\u001b[0m \u001b[0mlen\u001b[0m\u001b[1;33m(\u001b[0m\u001b[0mtokens2\u001b[0m\u001b[1;33m)\u001b[0m\u001b[1;33m\u001b[0m\u001b[1;33m\u001b[0m\u001b[0m\n",
      "\u001b[1;31mNameError\u001b[0m: name 'tokens' is not defined"
     ]
    }
   ],
   "source": [
    "tokens2 = [ d  for d in tokens if len(d) > 100]\n",
    "len(tokens2)"
   ]
  },
  {
   "cell_type": "code",
   "execution_count": null,
   "metadata": {},
   "outputs": [],
   "source": [
    "pickle.dump(tokens,open('tokens.pkl','wb'))"
   ]
  },
  {
   "cell_type": "code",
   "execution_count": null,
   "metadata": {},
   "outputs": [],
   "source": []
  }
 ],
 "metadata": {
  "kernelspec": {
   "display_name": "Python 3",
   "language": "python",
   "name": "python3"
  },
  "language_info": {
   "codemirror_mode": {
    "name": "ipython",
    "version": 3
   },
   "file_extension": ".py",
   "mimetype": "text/x-python",
   "name": "python",
   "nbconvert_exporter": "python",
   "pygments_lexer": "ipython3",
   "version": "3.8.3"
  }
 },
 "nbformat": 4,
 "nbformat_minor": 4
}
